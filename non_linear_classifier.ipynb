{
 "cells": [
  {
   "cell_type": "code",
   "execution_count": 1,
   "metadata": {},
   "outputs": [
    {
     "data": {
      "text/plain": [
       "'1.4.0'"
      ]
     },
     "execution_count": 1,
     "metadata": {},
     "output_type": "execute_result"
    }
   ],
   "source": [
    "%matplotlib inline\n",
    "import tensorflow as tf\n",
    "\n",
    "import numpy as np\n",
    "# Explicit random seed for reproducibility\n",
    "np.random.seed(7)  \n",
    "import os\n",
    "import matplotlib.pyplot as plt\n",
    "\n",
    "tf.__version__"
   ]
  },
  {
   "cell_type": "code",
   "execution_count": 2,
   "metadata": {},
   "outputs": [
    {
     "name": "stderr",
     "output_type": "stream",
     "text": [
      "Using TensorFlow backend.\n"
     ]
    }
   ],
   "source": [
    "from keras.callbacks import ModelCheckpoint\n",
    "from keras.models import Sequential\n",
    "from keras.layers import Dense, Dropout, Activation\n",
    "from keras.utils import np_utils"
   ]
  },
  {
   "cell_type": "code",
   "execution_count": 3,
   "metadata": {},
   "outputs": [],
   "source": [
    "def normalize(data, coefficients):\n",
    "    data = np.array(data, dtype=np.float32)\n",
    "    for index, c in enumerate(coefficients): \n",
    "        data[:,index] /= c\n",
    "    return data"
   ]
  },
  {
   "cell_type": "code",
   "execution_count": 4,
   "metadata": {},
   "outputs": [],
   "source": [
    "def load_training_data(filename=\"data.csv\", delimiter=\";\", skiprows=1, class1='NORMAL', class2='TRISOMY 21', force=False, normalization=True, \n",
    "                      column_mask=[False, False, False, False, False, True, True, True, True, True, False, True, True, True]):\n",
    "    filepath = os.path.join('data', filename)\n",
    "    npy_filepath_x = os.path.join('data', filename + '_x.npy')\n",
    "    npy_filepath_y = os.path.join('data', filename + '_y.npy')\n",
    "    npy_filepath_coefficients = os.path.join('data', filename + '_coefficients.npy')\n",
    "    npy_filepath_ids = os.path.join('data', filename + '_id.npy')\n",
    "    x = []\n",
    "    y = []\n",
    "    coefficients = [1]*8\n",
    "    ids = []\n",
    "    if force or not os.path.isfile(npy_filepath_x) or not os.path.isfile(npy_filepath_y) \\\n",
    "    or not os.path.isfile(npy_filepath_coefficients) or not os.path.isfile(npy_filepath_ids):\n",
    "        raw_data = np.loadtxt(filepath, delimiter=delimiter, skiprows=skiprows, dtype=str)\n",
    "        for line in raw_data:\n",
    "            app = [n for n in line]\n",
    "            app = np.array(app)\n",
    "            m = np.array(column_mask)\n",
    "            app = [float(n) for n in app[m]]\n",
    "            x.append(np.asarray(app))\n",
    "            y.append(0 if line[1] == class1 else 1)\n",
    "            ids.append(line[0])\n",
    "        x = np.array(x)\n",
    "        y = np.array(y)\n",
    "        ids = np.array(ids)\n",
    "        if normalization:\n",
    "            coefficients = x.max(axis=0)\n",
    "            x = x / x.max(axis=0)\n",
    "        np.save(npy_filepath_x, x)\n",
    "        np.save(npy_filepath_y, y)\n",
    "        np.save(npy_filepath_coefficients, coefficients)\n",
    "        np.save(npy_filepath_ids, ids)\n",
    "    else:\n",
    "        x = np.load(npy_filepath_x)\n",
    "        y = np.load(npy_filepath_y)\n",
    "        coefficients = np.load(npy_filepath_coefficients)\n",
    "        ids = np.load(npy_filepath_ids)\n",
    "\n",
    "    return coefficients, x, y, ids"
   ]
  },
  {
   "cell_type": "code",
   "execution_count": 5,
   "metadata": {},
   "outputs": [],
   "source": [
    "def load_blind_data(coefficients, filename=\"blind_samples.csv\", delimiter=\";\", skiprows=1, force=False, normalization=True, \n",
    "                      column_mask=[False, True, True, True, True, True, True, True, True]):\n",
    "    filepath = os.path.join('data', filename)\n",
    "    npy_filepath_x = os.path.join('data', filename + '_x.npy')\n",
    "    npy_filepath_ids = os.path.join('data', filename + '_id.npy')\n",
    "    x = []\n",
    "    ids = []\n",
    "    if force or not os.path.isfile(npy_filepath_x) or not os.path.isfile(npy_filepath_ids):\n",
    "        raw_data = np.loadtxt(filepath, delimiter=delimiter, skiprows=skiprows, dtype=str)\n",
    "        for line in raw_data:\n",
    "            app = [n for n in line]\n",
    "            app = np.array(app)\n",
    "            m = np.array(column_mask)\n",
    "            app = [float(n) for n in app[m]]\n",
    "            x.append(np.asarray(app))\n",
    "            ids.append(line[0])\n",
    "        x = np.array(x)\n",
    "        ids = np.array(ids)\n",
    "        if normalization:\n",
    "            x = normalize(x, coefficients)\n",
    "        np.save(npy_filepath_x, x)\n",
    "        np.save(npy_filepath_ids, ids)\n",
    "    else:\n",
    "        x = np.load(npy_filepath_x)\n",
    "        ids = np.load(npy_filepath_ids)\n",
    "    return x, ids"
   ]
  },
  {
   "cell_type": "code",
   "execution_count": 6,
   "metadata": {},
   "outputs": [],
   "source": [
    "(coefficients, x, y, ids) = load_training_data(force=True);"
   ]
  },
  {
   "cell_type": "code",
   "execution_count": 7,
   "metadata": {},
   "outputs": [],
   "source": [
    "batch_size = 512\n",
    "nb_classes = 2\n",
    "nb_epoch = 80\n",
    "# dense layer size\n",
    "dense_layer_size1 = 100\n",
    "dense_layer_size2 = 200\n",
    "# checkpoint path\n",
    "checkpoints_filepath = \"checkpoints/checkpoints.hdf5\"\n",
    "class_names = ['NORMAL', 'TRISOMY 21']\n",
    "\n",
    "training_set_size_percentage = 100 # set to 70 or 80 during tuning"
   ]
  },
  {
   "cell_type": "code",
   "execution_count": 8,
   "metadata": {},
   "outputs": [
    {
     "name": "stdout",
     "output_type": "stream",
     "text": [
      "X_train shape: (40, 8)\n",
      "40 train samples\n",
      "40 test samples\n"
     ]
    }
   ],
   "source": [
    "if training_set_size_percentage == 100:\n",
    "    X_train = x\n",
    "    X_test = x\n",
    "    Y_train = y\n",
    "    Y_test = y\n",
    "else: \n",
    "    size = y.size\n",
    "    training_size = int((size/100)*training_set_size_percentage)\n",
    "\n",
    "    X_train = x[0:training_size]\n",
    "    X_test = x[training_size:size]\n",
    "\n",
    "    Y_train = y[0:training_size]\n",
    "    Y_test = y[training_size:size]\n",
    "    \n",
    "X_train = X_train.reshape(X_train.shape[0], X_train.shape[1])\n",
    "X_test = X_test.reshape(X_test.shape[0], X_test.shape[1])\n",
    "\n",
    "X_train = X_train.astype('float32')\n",
    "X_test = X_test.astype('float32')\n",
    "\n",
    "print('X_train shape:', X_train.shape)\n",
    "print(X_train.shape[0], 'train samples')\n",
    "print(X_test.shape[0], 'test samples')\n",
    "\n",
    "# convert class vectors to binary class matrices\n",
    "Y_train = np_utils.to_categorical(Y_train, nb_classes)\n",
    "Y_test = np_utils.to_categorical(Y_test, nb_classes)"
   ]
  },
  {
   "cell_type": "code",
   "execution_count": 9,
   "metadata": {},
   "outputs": [],
   "source": [
    "def initialize_network_single_column(model, nb_classes, dense_layer_size1):\n",
    "    model.add(Dense(dense_layer_size1, name='fully_connected_1_' + str(dense_layer_size1) + '_neurons', \n",
    "                    input_shape=(8, )))\n",
    "    model.add(Activation('relu', name='activation_1_' + 'relu'))\n",
    "    model.add(Dropout(0.25))\n",
    "    model.add(Dense(dense_layer_size2, name='fully_connected_2_' + str(dense_layer_size2) + '_neurons'))\n",
    "    model.add(Activation('relu', name='activation_2_' + 'relu'))\n",
    "    model.add(Dropout(0.25))\n",
    "    model.add(Dense(nb_classes, name='output_' + str(nb_classes) + '_neurons'))\n",
    "    model.add(Activation('softmax', name='softmax'))\n",
    "    model.compile(loss='categorical_crossentropy',\n",
    "                  optimizer='adadelta',\n",
    "                  metrics=['acc'])\n",
    "        \n",
    "model = Sequential()\n",
    "initialize_network_single_column(model, nb_classes, dense_layer_size1)"
   ]
  },
  {
   "cell_type": "code",
   "execution_count": 10,
   "metadata": {
    "scrolled": true
   },
   "outputs": [
    {
     "name": "stdout",
     "output_type": "stream",
     "text": [
      "Train on 40 samples, validate on 40 samples\n",
      "Epoch 1/80\n",
      "40/40 [==============================] - 1s 28ms/step - loss: 0.6893 - acc: 0.5500 - val_loss: 0.6883 - val_acc: 0.5750\n",
      "Epoch 2/80\n",
      "40/40 [==============================] - 0s 250us/step - loss: 0.6880 - acc: 0.5500 - val_loss: 0.6827 - val_acc: 0.5750\n",
      "Epoch 3/80\n",
      "40/40 [==============================] - 0s 275us/step - loss: 0.6902 - acc: 0.4250 - val_loss: 0.6777 - val_acc: 0.5250\n",
      "Epoch 4/80\n",
      "40/40 [==============================] - 0s 200us/step - loss: 0.6906 - acc: 0.4750 - val_loss: 0.6727 - val_acc: 0.5000\n",
      "Epoch 5/80\n",
      "40/40 [==============================] - 0s 237us/step - loss: 0.6741 - acc: 0.5750 - val_loss: 0.6679 - val_acc: 0.5000\n",
      "Epoch 6/80\n",
      "40/40 [==============================] - 0s 225us/step - loss: 0.6617 - acc: 0.5500 - val_loss: 0.6635 - val_acc: 0.5000\n",
      "Epoch 7/80\n",
      "40/40 [==============================] - 0s 275us/step - loss: 0.6652 - acc: 0.5000 - val_loss: 0.6591 - val_acc: 0.5000\n",
      "Epoch 8/80\n",
      "40/40 [==============================] - 0s 238us/step - loss: 0.6653 - acc: 0.5500 - val_loss: 0.6550 - val_acc: 0.5000\n",
      "Epoch 9/80\n",
      "40/40 [==============================] - 0s 263us/step - loss: 0.6612 - acc: 0.4750 - val_loss: 0.6514 - val_acc: 0.5000\n",
      "Epoch 10/80\n",
      "40/40 [==============================] - 0s 250us/step - loss: 0.6584 - acc: 0.5000 - val_loss: 0.6475 - val_acc: 0.5000\n",
      "Epoch 11/80\n",
      "40/40 [==============================] - 0s 288us/step - loss: 0.6576 - acc: 0.5500 - val_loss: 0.6441 - val_acc: 0.5000\n",
      "Epoch 12/80\n",
      "40/40 [==============================] - 0s 212us/step - loss: 0.6443 - acc: 0.5250 - val_loss: 0.6404 - val_acc: 0.5000\n",
      "Epoch 13/80\n",
      "40/40 [==============================] - 0s 325us/step - loss: 0.6509 - acc: 0.4750 - val_loss: 0.6369 - val_acc: 0.5000\n",
      "Epoch 14/80\n",
      "40/40 [==============================] - 0s 250us/step - loss: 0.6425 - acc: 0.5250 - val_loss: 0.6337 - val_acc: 0.5000\n",
      "Epoch 15/80\n",
      "40/40 [==============================] - 0s 200us/step - loss: 0.6282 - acc: 0.6000 - val_loss: 0.6297 - val_acc: 0.5000\n",
      "Epoch 16/80\n",
      "40/40 [==============================] - 0s 225us/step - loss: 0.6315 - acc: 0.5250 - val_loss: 0.6261 - val_acc: 0.5000\n",
      "Epoch 17/80\n",
      "40/40 [==============================] - 0s 188us/step - loss: 0.6325 - acc: 0.5000 - val_loss: 0.6225 - val_acc: 0.5250\n",
      "Epoch 18/80\n",
      "40/40 [==============================] - 0s 225us/step - loss: 0.6389 - acc: 0.5250 - val_loss: 0.6191 - val_acc: 0.5250\n",
      "Epoch 19/80\n",
      "40/40 [==============================] - 0s 200us/step - loss: 0.6145 - acc: 0.5250 - val_loss: 0.6155 - val_acc: 0.5250\n",
      "Epoch 20/80\n",
      "40/40 [==============================] - 0s 200us/step - loss: 0.6267 - acc: 0.5500 - val_loss: 0.6121 - val_acc: 0.5500\n",
      "Epoch 21/80\n",
      "40/40 [==============================] - 0s 238us/step - loss: 0.6060 - acc: 0.5500 - val_loss: 0.6084 - val_acc: 0.5500\n",
      "Epoch 22/80\n",
      "40/40 [==============================] - 0s 275us/step - loss: 0.6201 - acc: 0.5500 - val_loss: 0.6052 - val_acc: 0.5500\n",
      "Epoch 23/80\n",
      "40/40 [==============================] - 0s 262us/step - loss: 0.6064 - acc: 0.5250 - val_loss: 0.6016 - val_acc: 0.5750\n",
      "Epoch 24/80\n",
      "40/40 [==============================] - 0s 237us/step - loss: 0.6071 - acc: 0.6250 - val_loss: 0.5980 - val_acc: 0.5750\n",
      "Epoch 25/80\n",
      "40/40 [==============================] - 0s 225us/step - loss: 0.6021 - acc: 0.6000 - val_loss: 0.5942 - val_acc: 0.5750\n",
      "Epoch 26/80\n",
      "40/40 [==============================] - 0s 237us/step - loss: 0.5917 - acc: 0.6250 - val_loss: 0.5903 - val_acc: 0.5750\n",
      "Epoch 27/80\n",
      "40/40 [==============================] - 0s 238us/step - loss: 0.5924 - acc: 0.6250 - val_loss: 0.5865 - val_acc: 0.5750\n",
      "Epoch 28/80\n",
      "40/40 [==============================] - 0s 237us/step - loss: 0.5917 - acc: 0.5500 - val_loss: 0.5825 - val_acc: 0.6000\n",
      "Epoch 29/80\n",
      "40/40 [==============================] - 0s 237us/step - loss: 0.5987 - acc: 0.6500 - val_loss: 0.5785 - val_acc: 0.6000\n",
      "Epoch 30/80\n",
      "40/40 [==============================] - 0s 225us/step - loss: 0.5898 - acc: 0.6250 - val_loss: 0.5745 - val_acc: 0.6250\n",
      "Epoch 31/80\n",
      "40/40 [==============================] - 0s 238us/step - loss: 0.5817 - acc: 0.6250 - val_loss: 0.5705 - val_acc: 0.6500\n",
      "Epoch 32/80\n",
      "40/40 [==============================] - 0s 200us/step - loss: 0.5607 - acc: 0.7500 - val_loss: 0.5662 - val_acc: 0.6500\n",
      "Epoch 33/80\n",
      "40/40 [==============================] - 0s 262us/step - loss: 0.5702 - acc: 0.7000 - val_loss: 0.5620 - val_acc: 0.6500\n",
      "Epoch 34/80\n",
      "40/40 [==============================] - 0s 225us/step - loss: 0.5547 - acc: 0.7250 - val_loss: 0.5577 - val_acc: 0.6750\n",
      "Epoch 35/80\n",
      "40/40 [==============================] - 0s 162us/step - loss: 0.5519 - acc: 0.7000 - val_loss: 0.5532 - val_acc: 0.6750\n",
      "Epoch 36/80\n",
      "40/40 [==============================] - 0s 225us/step - loss: 0.5577 - acc: 0.7000 - val_loss: 0.5488 - val_acc: 0.6750\n",
      "Epoch 37/80\n",
      "40/40 [==============================] - 0s 187us/step - loss: 0.5603 - acc: 0.6750 - val_loss: 0.5443 - val_acc: 0.8000\n",
      "Epoch 38/80\n",
      "40/40 [==============================] - 0s 250us/step - loss: 0.5491 - acc: 0.7750 - val_loss: 0.5395 - val_acc: 0.8250\n",
      "Epoch 39/80\n",
      "40/40 [==============================] - 0s 287us/step - loss: 0.5317 - acc: 0.8250 - val_loss: 0.5345 - val_acc: 0.8250\n",
      "Epoch 40/80\n",
      "40/40 [==============================] - 0s 212us/step - loss: 0.5425 - acc: 0.7500 - val_loss: 0.5297 - val_acc: 0.8750\n",
      "Epoch 41/80\n",
      "40/40 [==============================] - 0s 200us/step - loss: 0.5393 - acc: 0.8250 - val_loss: 0.5249 - val_acc: 0.8750\n",
      "Epoch 42/80\n",
      "40/40 [==============================] - 0s 212us/step - loss: 0.5395 - acc: 0.8250 - val_loss: 0.5202 - val_acc: 0.8750\n",
      "Epoch 43/80\n",
      "40/40 [==============================] - 0s 200us/step - loss: 0.5420 - acc: 0.8500 - val_loss: 0.5154 - val_acc: 0.9250\n",
      "Epoch 44/80\n",
      "40/40 [==============================] - 0s 175us/step - loss: 0.5164 - acc: 0.9000 - val_loss: 0.5100 - val_acc: 0.9250\n",
      "Epoch 45/80\n",
      "40/40 [==============================] - 0s 225us/step - loss: 0.5160 - acc: 0.8750 - val_loss: 0.5047 - val_acc: 0.9500\n",
      "Epoch 46/80\n",
      "40/40 [==============================] - 0s 200us/step - loss: 0.5045 - acc: 0.9250 - val_loss: 0.4993 - val_acc: 1.0000\n",
      "Epoch 47/80\n",
      "40/40 [==============================] - 0s 225us/step - loss: 0.5123 - acc: 0.8500 - val_loss: 0.4941 - val_acc: 1.0000\n",
      "Epoch 48/80\n",
      "40/40 [==============================] - 0s 238us/step - loss: 0.5081 - acc: 0.9250 - val_loss: 0.4886 - val_acc: 1.0000\n",
      "Epoch 49/80\n",
      "40/40 [==============================] - 0s 175us/step - loss: 0.4986 - acc: 0.9250 - val_loss: 0.4833 - val_acc: 1.0000\n",
      "Epoch 50/80\n",
      "40/40 [==============================] - 0s 212us/step - loss: 0.5024 - acc: 0.9750 - val_loss: 0.4779 - val_acc: 1.0000\n",
      "Epoch 51/80\n",
      "40/40 [==============================] - 0s 175us/step - loss: 0.4924 - acc: 0.9250 - val_loss: 0.4723 - val_acc: 1.0000\n",
      "Epoch 52/80\n",
      "40/40 [==============================] - 0s 262us/step - loss: 0.4828 - acc: 0.9250 - val_loss: 0.4666 - val_acc: 1.0000\n",
      "Epoch 53/80\n",
      "40/40 [==============================] - 0s 238us/step - loss: 0.4731 - acc: 0.9250 - val_loss: 0.4608 - val_acc: 1.0000\n",
      "Epoch 54/80\n",
      "40/40 [==============================] - 0s 188us/step - loss: 0.4727 - acc: 0.9500 - val_loss: 0.4550 - val_acc: 1.0000\n",
      "Epoch 55/80\n",
      "40/40 [==============================] - 0s 225us/step - loss: 0.4633 - acc: 0.9500 - val_loss: 0.4490 - val_acc: 1.0000\n",
      "Epoch 56/80\n",
      "40/40 [==============================] - 0s 175us/step - loss: 0.4577 - acc: 0.9750 - val_loss: 0.4430 - val_acc: 1.0000\n",
      "Epoch 57/80\n",
      "40/40 [==============================] - 0s 238us/step - loss: 0.4608 - acc: 0.9250 - val_loss: 0.4371 - val_acc: 1.0000\n",
      "Epoch 58/80\n",
      "40/40 [==============================] - 0s 187us/step - loss: 0.4377 - acc: 1.0000 - val_loss: 0.4309 - val_acc: 1.0000\n",
      "Epoch 59/80\n",
      "40/40 [==============================] - 0s 225us/step - loss: 0.4516 - acc: 1.0000 - val_loss: 0.4251 - val_acc: 1.0000\n",
      "Epoch 60/80\n",
      "40/40 [==============================] - 0s 225us/step - loss: 0.4512 - acc: 0.9750 - val_loss: 0.4192 - val_acc: 1.0000\n",
      "Epoch 61/80\n",
      "40/40 [==============================] - 0s 250us/step - loss: 0.4301 - acc: 1.0000 - val_loss: 0.4132 - val_acc: 1.0000\n",
      "Epoch 62/80\n",
      "40/40 [==============================] - 0s 200us/step - loss: 0.4217 - acc: 0.9750 - val_loss: 0.4071 - val_acc: 1.0000\n"
     ]
    },
    {
     "name": "stdout",
     "output_type": "stream",
     "text": [
      "Epoch 63/80\n",
      "40/40 [==============================] - 0s 225us/step - loss: 0.4111 - acc: 0.9750 - val_loss: 0.4011 - val_acc: 1.0000\n",
      "Epoch 64/80\n",
      "40/40 [==============================] - 0s 237us/step - loss: 0.4078 - acc: 1.0000 - val_loss: 0.3949 - val_acc: 1.0000\n",
      "Epoch 65/80\n",
      "40/40 [==============================] - 0s 250us/step - loss: 0.4183 - acc: 1.0000 - val_loss: 0.3890 - val_acc: 1.0000\n",
      "Epoch 66/80\n",
      "40/40 [==============================] - 0s 212us/step - loss: 0.3867 - acc: 0.9750 - val_loss: 0.3826 - val_acc: 1.0000\n",
      "Epoch 67/80\n",
      "40/40 [==============================] - 0s 187us/step - loss: 0.3904 - acc: 1.0000 - val_loss: 0.3760 - val_acc: 1.0000\n",
      "Epoch 68/80\n",
      "40/40 [==============================] - 0s 288us/step - loss: 0.3993 - acc: 1.0000 - val_loss: 0.3699 - val_acc: 1.0000\n",
      "Epoch 69/80\n",
      "40/40 [==============================] - 0s 225us/step - loss: 0.3828 - acc: 1.0000 - val_loss: 0.3641 - val_acc: 1.0000\n",
      "Epoch 70/80\n",
      "40/40 [==============================] - 0s 188us/step - loss: 0.3784 - acc: 1.0000 - val_loss: 0.3575 - val_acc: 1.0000\n",
      "Epoch 71/80\n",
      "40/40 [==============================] - 0s 200us/step - loss: 0.3840 - acc: 1.0000 - val_loss: 0.3511 - val_acc: 1.0000\n",
      "Epoch 72/80\n",
      "40/40 [==============================] - 0s 163us/step - loss: 0.3807 - acc: 0.9750 - val_loss: 0.3449 - val_acc: 1.0000\n",
      "Epoch 73/80\n",
      "40/40 [==============================] - 0s 212us/step - loss: 0.3583 - acc: 1.0000 - val_loss: 0.3382 - val_acc: 1.0000\n",
      "Epoch 74/80\n",
      "40/40 [==============================] - 0s 200us/step - loss: 0.3408 - acc: 1.0000 - val_loss: 0.3315 - val_acc: 1.0000\n",
      "Epoch 75/80\n",
      "40/40 [==============================] - 0s 225us/step - loss: 0.3520 - acc: 0.9750 - val_loss: 0.3252 - val_acc: 1.0000\n",
      "Epoch 76/80\n",
      "40/40 [==============================] - 0s 212us/step - loss: 0.3415 - acc: 1.0000 - val_loss: 0.3188 - val_acc: 1.0000\n",
      "Epoch 77/80\n",
      "40/40 [==============================] - 0s 200us/step - loss: 0.3176 - acc: 1.0000 - val_loss: 0.3119 - val_acc: 1.0000\n",
      "Epoch 78/80\n",
      "40/40 [==============================] - 0s 250us/step - loss: 0.3219 - acc: 0.9750 - val_loss: 0.3054 - val_acc: 1.0000\n",
      "Epoch 79/80\n",
      "40/40 [==============================] - 0s 200us/step - loss: 0.3183 - acc: 0.9750 - val_loss: 0.2988 - val_acc: 1.0000\n",
      "Epoch 80/80\n",
      "40/40 [==============================] - 0s 200us/step - loss: 0.3140 - acc: 0.9750 - val_loss: 0.2926 - val_acc: 1.0000\n"
     ]
    }
   ],
   "source": [
    "# fits the model on clear training set, for nb_epoch-700 epochs\n",
    "history = model.fit(X_train, Y_train, batch_size=batch_size, epochs=nb_epoch,\n",
    "                    verbose=1, validation_data=(X_test, Y_test))"
   ]
  },
  {
   "cell_type": "code",
   "execution_count": 11,
   "metadata": {},
   "outputs": [
    {
     "name": "stdout",
     "output_type": "stream",
     "text": [
      "evaluating new model\n",
      "Test score: 0.29256478548\n",
      "Test accuracy: 1.0\n"
     ]
    }
   ],
   "source": [
    "print('evaluating new model')\n",
    "score = model.evaluate(X_test, Y_test, verbose=0)\n",
    "print('Test score:', score[0])\n",
    "print('Test accuracy:', score[1])"
   ]
  },
  {
   "cell_type": "code",
   "execution_count": 12,
   "metadata": {},
   "outputs": [],
   "source": [
    "def plot_history(history, metric='acc', loc='lower right'): \n",
    "    # list all data in history\n",
    "    # print(history.history.keys())\n",
    "    # summarize history for accuracy\n",
    "    plt.plot(history.history[metric])\n",
    "    plt.plot(history.history['val_'+metric])\n",
    "    if metric == 'acc': \n",
    "        metric = 'accuracy'\n",
    "    plt.title('model ' + metric)\n",
    "    plt.ylabel(metric)\n",
    "    plt.xlabel('epoch')\n",
    "    plt.legend(['train', 'test'], loc=loc)\n",
    "    plt.show()"
   ]
  },
  {
   "cell_type": "code",
   "execution_count": 13,
   "metadata": {},
   "outputs": [
    {
     "data": {
      "image/png": "[encoded data removed]",
      "text/plain": [
       "<matplotlib.figure.Figure at 0x1a7ff148e48>"
      ]
     },
     "metadata": {},
     "output_type": "display_data"
    }
   ],
   "source": [
    "plot_history(history)"
   ]
  },
  {
   "cell_type": "code",
   "execution_count": 14,
   "metadata": {},
   "outputs": [],
   "source": [
    "def predictions(data, probability=True):\n",
    "    pred = np.array(model.predict_classes(data), dtype=np.int32)\n",
    "    confidence = []\n",
    "    if probability:\n",
    "        confidence = model.predict(data)\n",
    "    pred_class = [class_names[n] for n in pred]\n",
    "    return pred_class, confidence"
   ]
  },
  {
   "cell_type": "code",
   "execution_count": 15,
   "metadata": {},
   "outputs": [],
   "source": [
    "(blind_data, blind_data_ids) = load_blind_data(coefficients, force=True)\n",
    "pred_class, confidence = predictions(blind_data)"
   ]
  },
  {
   "cell_type": "code",
   "execution_count": 16,
   "metadata": {},
   "outputs": [],
   "source": [
    "def output_prediction_csv(blind_data_ids, pred_class, confidence):\n",
    "    string = \"id; predicted class; confidence\\n\"\n",
    "    for index, val in enumerate(pred_class):\n",
    "        string += blind_data_ids[index] + \";\" + pred_class[index] + \";\" + str(max(confidence[index])*100) + \"%\\n\"\n",
    "    return string"
   ]
  },
  {
   "cell_type": "code",
   "execution_count": 17,
   "metadata": {},
   "outputs": [
    {
     "name": "stdout",
     "output_type": "stream",
     "text": [
      "id; predicted class; confidence\n",
      "P41;NORMAL;67.3090457916%\n",
      "P42;NORMAL;59.0328931808%\n",
      "P43;NORMAL;74.9100089073%\n",
      "P44;NORMAL;71.2592184544%\n",
      "P45;NORMAL;67.7526652813%\n",
      "P46;NORMAL;73.008108139%\n",
      "P47;NORMAL;73.3762264252%\n",
      "P48;NORMAL;73.8893389702%\n",
      "P49;NORMAL;75.1773238182%\n",
      "P50;NORMAL;73.4253764153%\n",
      "P51;NORMAL;76.6548156738%\n",
      "P52;NORMAL;75.7187247276%\n",
      "P53;NORMAL;70.7959890366%\n",
      "P54;NORMAL;68.6970472336%\n",
      "P55;NORMAL;66.5503442287%\n",
      "P56;NORMAL;64.2400562763%\n",
      "P57;NORMAL;68.9213097095%\n",
      "P58;NORMAL;74.3461310863%\n",
      "P59;NORMAL;66.4228618145%\n",
      "P60;NORMAL;74.6435940266%\n",
      "P61;NORMAL;63.6223435402%\n",
      "P62;NORMAL;74.7607350349%\n",
      "P63;NORMAL;73.001563549%\n",
      "P64;NORMAL;70.2576339245%\n",
      "P65;NORMAL;54.05138731%\n",
      "P66;NORMAL;70.9541141987%\n",
      "P67;TRISOMY 21;87.1261715889%\n",
      "P68;TRISOMY 21;64.3060803413%\n",
      "P69;TRISOMY 21;100.0%\n",
      "P70;TRISOMY 21;99.9978661537%\n",
      "P71;TRISOMY 21;94.7778761387%\n",
      "P72;TRISOMY 21;96.4701592922%\n",
      "P73;TRISOMY 21;95.113325119%\n",
      "P74;TRISOMY 21;93.4457480907%\n",
      "P75;TRISOMY 21;99.9926924706%\n",
      "P76;TRISOMY 21;95.3457534313%\n",
      "P77;TRISOMY 21;99.9998211861%\n",
      "P78;TRISOMY 21;99.9842524529%\n",
      "P79;TRISOMY 21;99.959641695%\n",
      "P80;TRISOMY 21;100.0%\n",
      "\n"
     ]
    }
   ],
   "source": [
    "print(output_prediction_csv(blind_data_ids, pred_class, confidence))"
   ]
  }
 ],
 "metadata": {
  "kernelspec": {
   "display_name": "Python 3",
   "language": "python",
   "name": "python3"
  },
  "language_info": {
   "codemirror_mode": {
    "name": "ipython",
    "version": 3
   },
   "file_extension": ".py",
   "mimetype": "text/x-python",
   "name": "python",
   "nbconvert_exporter": "python",
   "pygments_lexer": "ipython3",
   "version": "3.6.3"
  }
 },
 "nbformat": 4,
 "nbformat_minor": 2
}
