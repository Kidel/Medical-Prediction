{
 "cells": [
  {
   "cell_type": "code",
   "execution_count": 1,
   "metadata": {},
   "outputs": [
    {
     "data": {
      "text/plain": [
       "'1.4.0'"
      ]
     },
     "execution_count": 1,
     "metadata": {},
     "output_type": "execute_result"
    }
   ],
   "source": [
    "%matplotlib inline\n",
    "import tensorflow as tf\n",
    "\n",
    "import numpy as np\n",
    "# Explicit random seed for reproducibility\n",
    "np.random.seed(7)  \n",
    "import os\n",
    "import matplotlib.pyplot as plt\n",
    "\n",
    "tf.__version__"
   ]
  },
  {
   "cell_type": "code",
   "execution_count": 2,
   "metadata": {},
   "outputs": [
    {
     "name": "stderr",
     "output_type": "stream",
     "text": [
      "Using TensorFlow backend.\n"
     ]
    }
   ],
   "source": [
    "from keras.callbacks import ModelCheckpoint\n",
    "from keras.models import Sequential\n",
    "from keras.layers import Dense, Dropout, Activation\n",
    "from keras.utils import np_utils"
   ]
  },
  {
   "cell_type": "code",
   "execution_count": 3,
   "metadata": {},
   "outputs": [],
   "source": [
    "def normalize(data, coefficients):\n",
    "    data = np.array(data, dtype=np.float32)\n",
    "    for index, c in enumerate(coefficients): \n",
    "        data[:,index] /= c\n",
    "    return data"
   ]
  },
  {
   "cell_type": "code",
   "execution_count": 4,
   "metadata": {},
   "outputs": [],
   "source": [
    "def load_data(filename=\"data.csv\", delimiter=\";\", skiprows=1, class1='NORMAL', class2='TRISOMY 21', force=False, normalization=True):\n",
    "    filepath = os.path.join('data', filename)\n",
    "    npy_filepath_x = os.path.join('data', filename + '_x.npy')\n",
    "    npy_filepath_y = os.path.join('data', filename + '_y.npy')\n",
    "    npy_filepath_coefficients = os.path.join('data', filename + '_coefficients.npy')\n",
    "    x = []\n",
    "    y = []\n",
    "    coefficients = []\n",
    "    if force or not os.path.isfile(npy_filepath_x) or not os.path.isfile(npy_filepath_y):\n",
    "        raw_data = np.loadtxt(filepath, delimiter=delimiter, skiprows=skiprows, dtype=str)\n",
    "        for line in raw_data:\n",
    "            app = [n for n in line]\n",
    "            app = [float(n) for n in app[2:14]]\n",
    "            x.append(np.asarray(app))\n",
    "            y.append(0 if line[1] == class1 else 1)\n",
    "        x = np.array(x)\n",
    "        y = np.array(y)\n",
    "        if normalization:\n",
    "            coefficients = x.max(axis=0)\n",
    "            x = x / x.max(axis=0)\n",
    "        np.save(npy_filepath_x, x);\n",
    "        np.save(npy_filepath_y, y);\n",
    "        np.save(npy_filepath_coefficients, coefficients);\n",
    "    else:\n",
    "        x = np.load(npy_filepath_x)\n",
    "        y = np.load(npy_filepath_y)\n",
    "        coefficients = np.load(npy_filepath_coefficients)\n",
    "\n",
    "    return coefficients, x, y;"
   ]
  },
  {
   "cell_type": "code",
   "execution_count": 5,
   "metadata": {},
   "outputs": [],
   "source": [
    "(coefficients, x, y) = load_data(force=True);"
   ]
  },
  {
   "cell_type": "code",
   "execution_count": 6,
   "metadata": {},
   "outputs": [],
   "source": [
    "batch_size = 512\n",
    "nb_classes = 2\n",
    "nb_epoch = 3\n",
    "# dense layer size\n",
    "dense_layer_size1 = 100\n",
    "# checkpoint path\n",
    "checkpoints_filepath = \"checkpoints/checkpoints.hdf5\"\n",
    "class_names = ['NORMAL', 'TRISOMY 21']"
   ]
  },
  {
   "cell_type": "code",
   "execution_count": 7,
   "metadata": {},
   "outputs": [
    {
     "name": "stdout",
     "output_type": "stream",
     "text": [
      "X_train shape: (32, 12)\n",
      "32 train samples\n",
      "8 test samples\n"
     ]
    }
   ],
   "source": [
    "size = y.size\n",
    "training_size = int((size/100)*80)\n",
    "\n",
    "X_train = x[0:training_size]\n",
    "X_test = x[training_size:size]\n",
    "\n",
    "X_train = X_train.reshape(X_train.shape[0], X_train.shape[1])\n",
    "X_test = X_test.reshape(X_test.shape[0], X_test.shape[1])\n",
    "\n",
    "Y_train = y[0:training_size]\n",
    "Y_test = y[training_size:size]\n",
    "\n",
    "X_train = X_train.astype('float32')\n",
    "X_test = X_test.astype('float32')\n",
    "print('X_train shape:', X_train.shape)\n",
    "print(X_train.shape[0], 'train samples')\n",
    "print(X_test.shape[0], 'test samples')\n",
    "\n",
    "# convert class vectors to binary class matrices\n",
    "Y_train = np_utils.to_categorical(Y_train, nb_classes)\n",
    "Y_test = np_utils.to_categorical(Y_test, nb_classes)"
   ]
  },
  {
   "cell_type": "code",
   "execution_count": 8,
   "metadata": {},
   "outputs": [
    {
     "name": "stdout",
     "output_type": "stream",
     "text": [
      "Warning: checkpoints/checkpoints.hdf5 could not be loaded\n"
     ]
    }
   ],
   "source": [
    "def initialize_network_single_column(model, nb_classes, dense_layer_size1):\n",
    "    model.add(Dense(dense_layer_size1, name='fully_connected_1_' + str(dense_layer_size1) + '_neurons', \n",
    "                    input_shape=(12, )))\n",
    "    model.add(Activation('relu', name='activation_1_' + 'relu'))\n",
    "    model.add(Dropout(0.25))\n",
    "    model.add(Dense(nb_classes, name='output_' + str(nb_classes) + '_neurons'))\n",
    "    model.add(Activation('softmax', name='softmax'))\n",
    "    model.compile(loss='categorical_crossentropy',\n",
    "                  optimizer='adadelta',\n",
    "                  metrics=['acc'])\n",
    "\n",
    "def try_load_checkpoints(model, checkpoints_filepath, warn=True):\n",
    "    # loading weights from checkpoints \n",
    "    if os.path.exists(checkpoints_filepath):\n",
    "        model.load_weights(checkpoints_filepath)\n",
    "    elif warn: \n",
    "        print('Warning: ' + checkpoints_filepath + ' could not be loaded')\n",
    "        \n",
    "model = Sequential()\n",
    "initialize_network_single_column(model, nb_classes, dense_layer_size1)\n",
    "try_load_checkpoints(model, checkpoints_filepath)"
   ]
  },
  {
   "cell_type": "code",
   "execution_count": 9,
   "metadata": {},
   "outputs": [
    {
     "name": "stdout",
     "output_type": "stream",
     "text": [
      "Epoch 00001: acc improved from -inf to 0.34375, saving model to checkpoints/checkpoints.hdf5\n",
      "Epoch 00002: acc improved from 0.34375 to 0.37500, saving model to checkpoints/checkpoints.hdf5\n",
      "Epoch 00003: acc improved from 0.37500 to 0.40625, saving model to checkpoints/checkpoints.hdf5\n"
     ]
    }
   ],
   "source": [
    "# checkpoint\n",
    "checkpoint = ModelCheckpoint(checkpoints_filepath, monitor='acc', verbose=1, save_best_only=True, mode='max')\n",
    "callbacks_list = [checkpoint]\n",
    "\n",
    "# fits the model on clear training set, for nb_epoch-700 epochs\n",
    "history = model.fit(X_train, Y_train, batch_size=batch_size, epochs=nb_epoch,\n",
    "                    verbose=0, validation_data=(X_test, Y_test), \n",
    "                    callbacks=callbacks_list)\n",
    "\n",
    "# ensuring best val_precision reached during training\n",
    "model.load_weights(checkpoints_filepath)"
   ]
  },
  {
   "cell_type": "code",
   "execution_count": 10,
   "metadata": {},
   "outputs": [
    {
     "name": "stdout",
     "output_type": "stream",
     "text": [
      "evaluating new model\n",
      "Test score: 0.683734416962\n",
      "Test accuracy: 0.625\n"
     ]
    }
   ],
   "source": [
    "print('evaluating new model')\n",
    "score = model.evaluate(X_test, Y_test, verbose=0)\n",
    "print('Test score:', score[0])\n",
    "print('Test accuracy:', score[1])"
   ]
  },
  {
   "cell_type": "code",
   "execution_count": 11,
   "metadata": {},
   "outputs": [],
   "source": [
    "def plot_history(history, metric='acc', loc='lower right'): \n",
    "    # list all data in history\n",
    "    # print(history.history.keys())\n",
    "    # summarize history for accuracy\n",
    "    plt.plot(history.history[metric])\n",
    "    plt.plot(history.history['val_'+metric])\n",
    "    if metric == 'acc': \n",
    "        metric = 'accuracy'\n",
    "    plt.title('model ' + metric)\n",
    "    plt.ylabel(metric)\n",
    "    plt.xlabel('epoch')\n",
    "    plt.legend(['train', 'test'], loc=loc)\n",
    "    plt.show()"
   ]
  },
  {
   "cell_type": "code",
   "execution_count": 12,
   "metadata": {},
   "outputs": [
    {
     "data": {
      "image/png": "[encoded data removed]",
      "text/plain": [
       "<matplotlib.figure.Figure at 0x2007fc7c320>"
      ]
     },
     "metadata": {},
     "output_type": "display_data"
    }
   ],
   "source": [
    "plot_history(history)"
   ]
  },
  {
   "cell_type": "code",
   "execution_count": 13,
   "metadata": {},
   "outputs": [],
   "source": [
    "def predictions(data, coefficients):\n",
    "    pred = model.predict_classes(normalize(data, coefficients))\n",
    "    pred_class = [class_names[n] for n in pred]\n",
    "    return pred_class"
   ]
  },
  {
   "cell_type": "code",
   "execution_count": 14,
   "metadata": {},
   "outputs": [
    {
     "data": {
      "text/plain": [
       "['TRISOMY 21', 'NORMAL']"
      ]
     },
     "execution_count": 14,
     "metadata": {},
     "output_type": "execute_result"
    }
   ],
   "source": [
    "# test with random data to predict\n",
    "predictions([[1,2,3,4,5,6,7,8,9,0,11,12], [0,12,2,4,5,5,6,7,1,3,0,0]], coefficients)"
   ]
  }
 ],
 "metadata": {
  "kernelspec": {
   "display_name": "Python 3",
   "language": "python",
   "name": "python3"
  },
  "language_info": {
   "codemirror_mode": {
    "name": "ipython",
    "version": 3
   },
   "file_extension": ".py",
   "mimetype": "text/x-python",
   "name": "python",
   "nbconvert_exporter": "python",
   "pygments_lexer": "ipython3",
   "version": "3.6.3"
  }
 },
 "nbformat": 4,
 "nbformat_minor": 2
}
